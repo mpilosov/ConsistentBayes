{
 "cells": [
  {
   "cell_type": "markdown",
   "metadata": {},
   "source": [
    "# Working with Time-Series Data in a Consistent Bayesian Framework: \n",
    "## A Brief Introduction\n",
    "---\n",
    "\n",
    "Copyright 2018\n",
    "Michael Pilosov\n",
    "\n",
    "NOTE: Current Sandbox in need of major improvements. Use at your own risk. "
   ]
  },
  {
   "cell_type": "markdown",
   "metadata": {},
   "source": [
    "---\n",
    "## Defining the Parameter to Observables (PtO) and Quantity of Interest (QoI) maps\n",
    "\n",
    "---\n",
    "Consider the Initival Value Problem (IVP)\n",
    "\n",
    "$$\n",
    "\\begin{cases}\n",
    "    \\dot{u}(t) = -u(t), & t>0 \\\\\n",
    "    u(0) = \\lambda, & \n",
    "\\end{cases}\n",
    "$$\n",
    "\n",
    "with solution $u(t;\\lambda) = \\lambda \\,e^{-t}$.\n",
    "\n",
    "Let $0<t_0<t_1<\\ldots, t_K$ denote the observation times. \n",
    "Given a fixed initial condition (i.e., parameter) $\\lambda$, let $y_k$ denote the set of (noisy) observations of the state variable $u(t_k,\\lambda)$ for $k=0,1,\\ldots, K$. \n",
    "\n",
    "We make the standard assumption of an additive error model with independent identically distributed noise, i.e., for each $k=0,1,\\ldots,K$ and fixed value of $\\lambda$, we assume that the Parameter-to-Observables (PtO) maps are given by\n",
    "\n",
    "$$\n",
    "O_k(\\lambda) := u(t_k;\\lambda) + \\epsilon_k, \\quad \\epsilon_k \\sim N(0,\\sigma_k). \n",
    "$$\n",
    "\n",
    "Assume that there is a true value of $\\lambda$, which we denoted by $\\lambda_0$, for which the observations $y_k:=O_k(\\lambda_0)$ are given for $k=0,1,\\ldots,K$.\n",
    "\n",
    "Then, for any other value of $\\lambda$ in the IVP above, we define the Quantity of Interest (QoI) as the **Weighted Sum Squared Error (a weighted 2-norm) between the observations and the model predictions**, i.e., we define the QoI map as\n",
    "\n",
    "$$\n",
    "    \\boxed{Q(\\lambda) := \\sum_{k=0}^{K} \\frac{(u(t_k;\\lambda) - y_k) ^ 2}{\\sigma_k^2}}\n",
    "$$\n",
    "\n",
    "We let $\\mathcal{D} := Q(\\Lambda)$ denote the space of all possible observations of mean squared error. \n"
   ]
  },
  {
   "cell_type": "markdown",
   "metadata": {},
   "source": [
    "---\n",
    "## Formulating the Inverse Problem:\n",
    "---\n",
    "### Prior Information/Assumptions\n",
    "\n",
    "* We assume that the true value $\\lambda_0$ belongs to the parameter space defined by $\\Lambda:= [a, b]$, $a > 0$.\n",
    "\n",
    "\n",
    "* Prior to the data $\\{y_k\\}_{k=0}^K$ being available, any value of the parameter $\\lambda$ in $\\Lambda$ is assumed to be equally likely. In other words, we take $\\pi^{prior}_\\Lambda(\\lambda)$ to be a uniform density.\n",
    "\n",
    "\n",
    "### The Observed Density\n",
    "\n",
    "* For the true value of $\\lambda_0$, we have that $u(t_k;\\lambda_0)-y_k = \\epsilon_k$ for each $k$. Thus, the observed density on $\\mathcal{D}$, denoted by $\\pi^{obs}_{\\mathcal{D}}(d)$, is given by a $\\chi^2_{K+1}$ distribution.\n",
    "\n",
    "### The Posterior Density\n",
    "\n",
    "* Let $\\pi^{O(prior)}_{\\mathcal{D}}(d)$ denote the push-forward of the prior density onto $\\mathcal{D}$. Then, the posterior density on $\\Lambda$ is given by\n",
    "\n",
    "$$\n",
    "    \\pi^{post}_\\Lambda(\\lambda) := \\pi^{prior}_\\Lambda(\\lambda)\\frac{\\pi^{obs}_{\\mathcal{D}}(Q(\\lambda))}{\\pi^{O(prior)}_{\\mathcal{D}}(Q(\\lambda))}\n",
    "$$"
   ]
  },
  {
   "cell_type": "markdown",
   "metadata": {},
   "source": [
    "---\n",
    "## The numerical implementation and practical considerations\n",
    "---\n",
    "Here, we provide only a few brief remarks on the implementation.\n",
    "\n",
    "***Some useful remarks go here.***\n"
   ]
  },
  {
   "cell_type": "markdown",
   "metadata": {},
   "source": [
    "--- \n",
    "\n",
    "### Import Libraries\n",
    "_(should be 2.7 and 3.x compatible) _"
   ]
  },
  {
   "cell_type": "code",
   "execution_count": 1,
   "metadata": {},
   "outputs": [],
   "source": [
    "# Interactivity\n",
    "import cb_sandbox\n",
    "from ipywidgets import interact_manual, widgets\n",
    "%matplotlib inline"
   ]
  },
  {
   "cell_type": "markdown",
   "metadata": {},
   "source": [
    "---\n",
    "\n",
    "# All-in-One Sandbox!\n",
    "_Run the cells below to start experimenting_"
   ]
  },
  {
   "cell_type": "code",
   "execution_count": 2,
   "metadata": {
    "scrolled": false
   },
   "outputs": [
    {
     "data": {
      "application/vnd.jupyter.widget-view+json": {
       "model_id": "6016c80611f34b54aaaad75d301843da",
       "version_major": 2,
       "version_minor": 0
      },
      "text/plain": [
       "Tab(children=(HBox(children=(VBox(children=(Accordion(children=(HBox(children=(VBox(children=(FloatRangeSlider…"
      ]
     },
     "metadata": {},
     "output_type": "display_data"
    }
   ],
   "source": [
    "# Display the \"tabulated nest\"\n",
    "num_experiments = 1\n",
    "tab_nest, keys, fbox = cb_sandbox.make_tabulated_sandbox(num_experiments)\n",
    "tab_nest"
   ]
  },
  {
   "cell_type": "markdown",
   "metadata": {},
   "source": [
    "### Manual Interaction Mode\n",
    "Once you find some parameters you like, you can run multiple instances of it below to get a sense of the variations in the solutions:\n",
    "\n"
   ]
  },
  {
   "cell_type": "code",
   "execution_count": 3,
   "metadata": {},
   "outputs": [
    {
     "data": {
      "application/vnd.jupyter.widget-view+json": {
       "model_id": "ae4d5057fc734ce09623a0b7019e1339",
       "version_major": 2,
       "version_minor": 0
      },
      "text/plain": [
       "interactive(children=(IntSlider(value=2500, description='Samp. $N$ =', max=50000, min=500, step=500), FloatRan…"
      ]
     },
     "metadata": {},
     "output_type": "display_data"
    }
   ],
   "source": [
    "interact_manual(cb_sandbox.sandbox, \n",
    "        num_samples = widgets.IntSlider(value=2500, \n",
    "            min=int(5E2), max=int(5E4), step=500, description='Samp. $N$ ='), \n",
    "        lam_bound = widgets.FloatRangeSlider(value=[3.0, 6.0], \n",
    "            min=2.0, max = 7.0, step=0.5, description='Param $\\Lambda \\in$'),\n",
    "        lam_0 = widgets.FloatSlider(value=3.5, \n",
    "            min=2.0, max=7.0, step=0.1, description='IC: $\\lambda_0$ ='), \n",
    "        t_0 = widgets.FloatSlider(value=0.5, \n",
    "            min=0.1, max=2, step=0.1, description='$t_0$ ='),\n",
    "        Delta_t = widgets.FloatSlider(value=0.1, \n",
    "            min=0.05, max=0.5, step=0.05, description='$\\Delta_t$ ='),\n",
    "        num_observations = widgets.IntSlider(value=50, \n",
    "            min=1, max=100, description='# of Obs. ='), \n",
    "        sd = widgets.FloatSlider(value=0.1, \n",
    "            min=0.05, max=0.25, step=0.01, description='Constant $\\sigma$:'), \n",
    "        fixed_noise=widgets.fixed(True), \n",
    "        compare = widgets.fixed(False),\n",
    "        smooth_post = widgets.fixed(False)); "
   ]
  },
  {
   "cell_type": "code",
   "execution_count": null,
   "metadata": {},
   "outputs": [],
   "source": []
  }
 ],
 "metadata": {
  "anaconda-cloud": {},
  "kernelspec": {
   "display_name": "py3",
   "language": "python",
   "name": "py3"
  },
  "language_info": {
   "codemirror_mode": {
    "name": "ipython",
    "version": 3
   },
   "file_extension": ".py",
   "mimetype": "text/x-python",
   "name": "python",
   "nbconvert_exporter": "python",
   "pygments_lexer": "ipython3",
   "version": "3.6.4"
  },
  "widgets": {
   "state": {
    "c4141ec5ed104fa18753136137c56223": {
     "views": [
      {
       "cell_index": 9
      }
     ]
    }
   },
   "version": "1.2.0"
  }
 },
 "nbformat": 4,
 "nbformat_minor": 2
}
